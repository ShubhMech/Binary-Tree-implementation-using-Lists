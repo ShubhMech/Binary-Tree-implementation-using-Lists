{
 "cells": [
  {
   "cell_type": "code",
   "execution_count": 1,
   "id": "5b879939-2416-4db9-b1cd-0d8fd9fd93f4",
   "metadata": {},
   "outputs": [],
   "source": [
    "class Tree:\n",
    "    def __init__(self,size):\n",
    "        self.list=[]*size\n",
    "        self.size=size\n",
    "        self.last_index=0"
   ]
  },
  {
   "cell_type": "code",
   "execution_count": 2,
   "id": "b48afa3a-3e7c-4a09-839a-5235f1fd81fa",
   "metadata": {},
   "outputs": [],
   "source": [
    "root=Tree(8)"
   ]
  },
  {
   "cell_type": "code",
   "execution_count": 4,
   "id": "316ff224-cb19-49d6-adde-b6f5d3580953",
   "metadata": {},
   "outputs": [
    {
     "data": {
      "text/plain": [
       "0"
      ]
     },
     "execution_count": 4,
     "metadata": {},
     "output_type": "execute_result"
    }
   ],
   "source": [
    "root.last_index"
   ]
  },
  {
   "cell_type": "code",
   "execution_count": 5,
   "id": "48e10bf7-a8b0-4682-8778-403234537832",
   "metadata": {},
   "outputs": [
    {
     "data": {
      "text/plain": [
       "8"
      ]
     },
     "execution_count": 5,
     "metadata": {},
     "output_type": "execute_result"
    }
   ],
   "source": [
    "root.size"
   ]
  },
  {
   "cell_type": "code",
   "execution_count": null,
   "id": "9805e345-0cda-44e9-ad1f-80ac9224d3b0",
   "metadata": {},
   "outputs": [],
   "source": []
  }
 ],
 "metadata": {
  "kernelspec": {
   "display_name": "Python 3",
   "language": "python",
   "name": "python3"
  },
  "language_info": {
   "codemirror_mode": {
    "name": "ipython",
    "version": 3
   },
   "file_extension": ".py",
   "mimetype": "text/x-python",
   "name": "python",
   "nbconvert_exporter": "python",
   "pygments_lexer": "ipython3",
   "version": "3.8.5"
  }
 },
 "nbformat": 4,
 "nbformat_minor": 5
}
