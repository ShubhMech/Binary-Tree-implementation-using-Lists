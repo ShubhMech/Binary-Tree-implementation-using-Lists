{
 "cells": [
  {
   "cell_type": "code",
   "execution_count": 38,
   "id": "5b879939-2416-4db9-b1cd-0d8fd9fd93f4",
   "metadata": {},
   "outputs": [],
   "source": [
    "class Tree:\n",
    "    def __init__(self,size):\n",
    "        \n",
    "        self.size=size\n",
    "        self.list=[None]*self.size\n",
    "        self.last_index=0"
   ]
  },
  {
   "cell_type": "code",
   "execution_count": 39,
   "id": "b48afa3a-3e7c-4a09-839a-5235f1fd81fa",
   "metadata": {},
   "outputs": [],
   "source": [
    "root=Tree(8)"
   ]
  },
  {
   "cell_type": "code",
   "execution_count": 40,
   "id": "316ff224-cb19-49d6-adde-b6f5d3580953",
   "metadata": {},
   "outputs": [
    {
     "data": {
      "text/plain": [
       "0"
      ]
     },
     "execution_count": 40,
     "metadata": {},
     "output_type": "execute_result"
    }
   ],
   "source": [
    "root.last_index"
   ]
  },
  {
   "cell_type": "code",
   "execution_count": 41,
   "id": "48e10bf7-a8b0-4682-8778-403234537832",
   "metadata": {},
   "outputs": [
    {
     "data": {
      "text/plain": [
       "8"
      ]
     },
     "execution_count": 41,
     "metadata": {},
     "output_type": "execute_result"
    }
   ],
   "source": [
    "root.size"
   ]
  },
  {
   "cell_type": "code",
   "execution_count": 42,
   "id": "46610e31-bf52-40ff-b2ca-91d9e46e52b5",
   "metadata": {},
   "outputs": [
    {
     "data": {
      "text/plain": [
       "[None, None, None, None, None, None, None, None]"
      ]
     },
     "execution_count": 42,
     "metadata": {},
     "output_type": "execute_result"
    }
   ],
   "source": [
    "root.list"
   ]
  },
  {
   "cell_type": "code",
   "execution_count": 43,
   "id": "f46680bd-39aa-4d8f-abc7-b9c2f06f812e",
   "metadata": {},
   "outputs": [
    {
     "data": {
      "text/plain": [
       "8"
      ]
     },
     "execution_count": 43,
     "metadata": {},
     "output_type": "execute_result"
    }
   ],
   "source": [
    "len(root.list)"
   ]
  },
  {
   "cell_type": "code",
   "execution_count": 44,
   "id": "9805e345-0cda-44e9-ad1f-80ac9224d3b0",
   "metadata": {},
   "outputs": [],
   "source": [
    "def insert(root,val):\n",
    "    if root.last_index +1  == root.size:\n",
    "        return \"The tree doesn't have any space to insert this new element\"\n",
    "    else:\n",
    "        new_ind= root.last_index+1\n",
    "        root.list[new_ind] = val\n",
    "        root.last_index += 1\n",
    "        "
   ]
  },
  {
   "cell_type": "code",
   "execution_count": 45,
   "id": "2528cc5c-fe3e-46d2-a789-676a02de9ec7",
   "metadata": {},
   "outputs": [],
   "source": [
    "insert(root,5)"
   ]
  },
  {
   "cell_type": "code",
   "execution_count": 46,
   "id": "44254926-d681-49d4-963a-13c9149290ef",
   "metadata": {},
   "outputs": [
    {
     "data": {
      "text/plain": [
       "[None, 5, None, None, None, None, None, None]"
      ]
     },
     "execution_count": 46,
     "metadata": {},
     "output_type": "execute_result"
    }
   ],
   "source": [
    "root.list"
   ]
  },
  {
   "cell_type": "code",
   "execution_count": 48,
   "id": "79d0b881-0e2b-4e22-8154-71755ad35e9b",
   "metadata": {},
   "outputs": [],
   "source": [
    "insert(root,55)"
   ]
  },
  {
   "cell_type": "markdown",
   "id": "87a05a6c-5670-42ad-ab49-f24bccb9afc9",
   "metadata": {},
   "source": []
  },
  {
   "cell_type": "code",
   "execution_count": 50,
   "id": "eae8d4ce-2dd0-4970-bc52-57ea61c741c9",
   "metadata": {},
   "outputs": [
    {
     "data": {
      "text/plain": [
       "[None, 5, 55, None, None, None, None, None]"
      ]
     },
     "execution_count": 50,
     "metadata": {},
     "output_type": "execute_result"
    }
   ],
   "source": [
    "root.list"
   ]
  },
  {
   "cell_type": "code",
   "execution_count": 51,
   "id": "9c5485dd-0849-422b-bb9c-958a0b1487aa",
   "metadata": {},
   "outputs": [
    {
     "data": {
      "text/plain": [
       "2"
      ]
     },
     "execution_count": 51,
     "metadata": {},
     "output_type": "execute_result"
    }
   ],
   "source": [
    "root.last_index"
   ]
  },
  {
   "cell_type": "code",
   "execution_count": null,
   "id": "0b1ea273-560a-45a2-bf86-fbeb24f640e5",
   "metadata": {},
   "outputs": [],
   "source": []
  }
 ],
 "metadata": {
  "kernelspec": {
   "display_name": "Python 3",
   "language": "python",
   "name": "python3"
  },
  "language_info": {
   "codemirror_mode": {
    "name": "ipython",
    "version": 3
   },
   "file_extension": ".py",
   "mimetype": "text/x-python",
   "name": "python",
   "nbconvert_exporter": "python",
   "pygments_lexer": "ipython3",
   "version": "3.8.5"
  }
 },
 "nbformat": 4,
 "nbformat_minor": 5
}
