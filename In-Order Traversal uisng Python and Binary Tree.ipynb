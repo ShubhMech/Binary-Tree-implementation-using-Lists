{
 "cells": [
  {
   "cell_type": "code",
   "execution_count": 150,
   "id": "5b879939-2416-4db9-b1cd-0d8fd9fd93f4",
   "metadata": {},
   "outputs": [],
   "source": [
    "class Tree:\n",
    "    def __init__(self,size):\n",
    "        \n",
    "        self.size=size\n",
    "        self.list=[None]*self.size\n",
    "        self.last_index=0"
   ]
  },
  {
   "cell_type": "code",
   "execution_count": 151,
   "id": "b48afa3a-3e7c-4a09-839a-5235f1fd81fa",
   "metadata": {},
   "outputs": [],
   "source": [
    "root=Tree(8)"
   ]
  },
  {
   "cell_type": "code",
   "execution_count": 152,
   "id": "316ff224-cb19-49d6-adde-b6f5d3580953",
   "metadata": {},
   "outputs": [
    {
     "data": {
      "text/plain": [
       "0"
      ]
     },
     "execution_count": 152,
     "metadata": {},
     "output_type": "execute_result"
    }
   ],
   "source": [
    "root.last_index"
   ]
  },
  {
   "cell_type": "code",
   "execution_count": 153,
   "id": "48e10bf7-a8b0-4682-8778-403234537832",
   "metadata": {},
   "outputs": [
    {
     "data": {
      "text/plain": [
       "8"
      ]
     },
     "execution_count": 153,
     "metadata": {},
     "output_type": "execute_result"
    }
   ],
   "source": [
    "root.size"
   ]
  },
  {
   "cell_type": "code",
   "execution_count": 154,
   "id": "46610e31-bf52-40ff-b2ca-91d9e46e52b5",
   "metadata": {},
   "outputs": [
    {
     "data": {
      "text/plain": [
       "[None, None, None, None, None, None, None, None]"
      ]
     },
     "execution_count": 154,
     "metadata": {},
     "output_type": "execute_result"
    }
   ],
   "source": [
    "root.list"
   ]
  },
  {
   "cell_type": "code",
   "execution_count": 155,
   "id": "f46680bd-39aa-4d8f-abc7-b9c2f06f812e",
   "metadata": {},
   "outputs": [
    {
     "data": {
      "text/plain": [
       "8"
      ]
     },
     "execution_count": 155,
     "metadata": {},
     "output_type": "execute_result"
    }
   ],
   "source": [
    "len(root.list)"
   ]
  },
  {
   "cell_type": "code",
   "execution_count": 156,
   "id": "9805e345-0cda-44e9-ad1f-80ac9224d3b0",
   "metadata": {},
   "outputs": [],
   "source": [
    "def insert(root,val):\n",
    "    if root.last_index +1  == root.size:\n",
    "        return \"The tree doesn't have any space to insert this new element\"\n",
    "    else:\n",
    "        new_ind= root.last_index+1\n",
    "        root.list[new_ind] = val\n",
    "        root.last_index += 1\n",
    "        "
   ]
  },
  {
   "cell_type": "code",
   "execution_count": 157,
   "id": "2528cc5c-fe3e-46d2-a789-676a02de9ec7",
   "metadata": {},
   "outputs": [],
   "source": [
    "insert(root,\"Drinks\")"
   ]
  },
  {
   "cell_type": "code",
   "execution_count": 158,
   "id": "44254926-d681-49d4-963a-13c9149290ef",
   "metadata": {},
   "outputs": [
    {
     "data": {
      "text/plain": [
       "[None, 'Drinks', None, None, None, None, None, None]"
      ]
     },
     "execution_count": 158,
     "metadata": {},
     "output_type": "execute_result"
    }
   ],
   "source": [
    "root.list"
   ]
  },
  {
   "cell_type": "code",
   "execution_count": 159,
   "id": "aee99eeb-ea29-46f0-8996-82a9767a2cf6",
   "metadata": {},
   "outputs": [],
   "source": [
    "insert(root,\"Hot\")"
   ]
  },
  {
   "cell_type": "code",
   "execution_count": 160,
   "id": "d47d19a8-71b3-483e-b3ff-caf3ee34608a",
   "metadata": {},
   "outputs": [],
   "source": [
    "insert(root,\"Cold\")"
   ]
  },
  {
   "cell_type": "code",
   "execution_count": 161,
   "id": "75ebd400-2f0e-4f91-8151-cde47c9570fc",
   "metadata": {},
   "outputs": [],
   "source": [
    "insert(root,\"Coffee\")"
   ]
  },
  {
   "cell_type": "code",
   "execution_count": 162,
   "id": "79d0b881-0e2b-4e22-8154-71755ad35e9b",
   "metadata": {},
   "outputs": [],
   "source": [
    "insert(root,\"Tea\")"
   ]
  },
  {
   "cell_type": "markdown",
   "id": "87a05a6c-5670-42ad-ab49-f24bccb9afc9",
   "metadata": {},
   "source": []
  },
  {
   "cell_type": "code",
   "execution_count": 163,
   "id": "e6e9b3c3-147d-4dc1-84d5-21bc9ab25328",
   "metadata": {},
   "outputs": [],
   "source": [
    "insert(root,\"Cold-Drink\")"
   ]
  },
  {
   "cell_type": "code",
   "execution_count": 164,
   "id": "40eaba1b-09d9-46e1-8730-2a4d1ed4bcc4",
   "metadata": {},
   "outputs": [],
   "source": [
    "insert(root,\"Sharbat\")"
   ]
  },
  {
   "cell_type": "code",
   "execution_count": 165,
   "id": "eae8d4ce-2dd0-4970-bc52-57ea61c741c9",
   "metadata": {},
   "outputs": [
    {
     "data": {
      "text/plain": [
       "[None, 'Drinks', 'Hot', 'Cold', 'Coffee', 'Tea', 'Cold-Drink', 'Sharbat']"
      ]
     },
     "execution_count": 165,
     "metadata": {},
     "output_type": "execute_result"
    }
   ],
   "source": [
    "root.list"
   ]
  },
  {
   "cell_type": "code",
   "execution_count": 166,
   "id": "9c5485dd-0849-422b-bb9c-958a0b1487aa",
   "metadata": {},
   "outputs": [
    {
     "data": {
      "text/plain": [
       "7"
      ]
     },
     "execution_count": 166,
     "metadata": {},
     "output_type": "execute_result"
    }
   ],
   "source": [
    "root.last_index"
   ]
  },
  {
   "cell_type": "code",
   "execution_count": 167,
   "id": "0b1ea273-560a-45a2-bf86-fbeb24f640e5",
   "metadata": {},
   "outputs": [],
   "source": [
    "def search(root,val):\n",
    "    if root.last_index==0:\n",
    "        print(\"No element in the tree\")\n",
    "        return\n",
    "    for i in range(len(root.list)):\n",
    "        if root.list[i]==val:\n",
    "            print(\"value found at index :\", i)\n",
    "            break\n",
    "        elif i==root.last_index:\n",
    "            print(\"Value not found!\")\n",
    "            \n",
    "            \n",
    "       "
   ]
  },
  {
   "cell_type": "code",
   "execution_count": 168,
   "id": "b189b73e-cf3e-4cc1-adb6-e78c52062abf",
   "metadata": {},
   "outputs": [
    {
     "name": "stdout",
     "output_type": "stream",
     "text": [
      "Value not found!\n"
     ]
    }
   ],
   "source": [
    "search(root,55)"
   ]
  },
  {
   "cell_type": "code",
   "execution_count": 169,
   "id": "c7ef66a4-c956-4e2c-b836-a9e3ebef8843",
   "metadata": {},
   "outputs": [
    {
     "name": "stdout",
     "output_type": "stream",
     "text": [
      "Value not found!\n"
     ]
    }
   ],
   "source": [
    "search(root,550)"
   ]
  },
  {
   "cell_type": "code",
   "execution_count": 170,
   "id": "839d12a0-65de-44ae-a973-6a2f24f521d4",
   "metadata": {},
   "outputs": [
    {
     "name": "stdout",
     "output_type": "stream",
     "text": [
      "Value not found!\n"
     ]
    }
   ],
   "source": [
    "search(root,555)"
   ]
  },
  {
   "cell_type": "code",
   "execution_count": 171,
   "id": "94679dbe-869a-44dc-98d3-275d788867d3",
   "metadata": {},
   "outputs": [
    {
     "name": "stdout",
     "output_type": "stream",
     "text": [
      "Value not found!\n"
     ]
    }
   ],
   "source": [
    "search(root,55555555)"
   ]
  },
  {
   "cell_type": "code",
   "execution_count": 172,
   "id": "76764b2a-cb0f-4fe9-8b90-8940281c8e5c",
   "metadata": {},
   "outputs": [
    {
     "data": {
      "text/plain": [
       "[None, 'Drinks', 'Hot', 'Cold', 'Coffee', 'Tea', 'Cold-Drink', 'Sharbat']"
      ]
     },
     "execution_count": 172,
     "metadata": {},
     "output_type": "execute_result"
    }
   ],
   "source": [
    "root.list"
   ]
  },
  {
   "cell_type": "code",
   "execution_count": 173,
   "id": "e52c871a-f7f9-4740-abec-48495656945b",
   "metadata": {},
   "outputs": [
    {
     "data": {
      "text/plain": [
       "\"The tree doesn't have any space to insert this new element\""
      ]
     },
     "execution_count": 173,
     "metadata": {},
     "output_type": "execute_result"
    }
   ],
   "source": [
    "insert(root,123456789)"
   ]
  },
  {
   "cell_type": "code",
   "execution_count": 174,
   "id": "f253aa73-c18d-4aa2-b54c-160961687bf5",
   "metadata": {},
   "outputs": [],
   "source": [
    "def pre_order_traversal(root,index):\n",
    "    if root.last_index==0:\n",
    "        print(\"Nothin to traverse.\")\n",
    "        return\n",
    "    \n",
    "    else:\n",
    "        \n",
    "        if index > root.last_index:\n",
    "            return\n",
    "\n",
    "\n",
    "        else:\n",
    "            print(root.list[index])\n",
    "\n",
    "            pre_order_traversal(root,2*index)\n",
    "            pre_order_traversal(root,2*index+1\n",
    "                               )\n"
   ]
  },
  {
   "cell_type": "code",
   "execution_count": 175,
   "id": "49d74776-5570-47b9-bfc0-03322a5322f6",
   "metadata": {},
   "outputs": [
    {
     "data": {
      "text/plain": [
       "[None, 'Drinks', 'Hot', 'Cold', 'Coffee', 'Tea', 'Cold-Drink', 'Sharbat']"
      ]
     },
     "execution_count": 175,
     "metadata": {},
     "output_type": "execute_result"
    }
   ],
   "source": [
    "root.list"
   ]
  },
  {
   "cell_type": "code",
   "execution_count": 176,
   "id": "d6870feb-1c09-4c77-aa86-83d0f81f012b",
   "metadata": {},
   "outputs": [
    {
     "name": "stdout",
     "output_type": "stream",
     "text": [
      "Drinks\n",
      "Hot\n",
      "Coffee\n",
      "Tea\n",
      "Cold\n",
      "Cold-Drink\n",
      "Sharbat\n"
     ]
    }
   ],
   "source": [
    "pre_order_traversal(root,1)"
   ]
  },
  {
   "cell_type": "code",
   "execution_count": 181,
   "id": "cf27557a-cd9c-4658-8a83-a6cf39a734e2",
   "metadata": {},
   "outputs": [],
   "source": [
    "def in_order_traversal(root,index):\n",
    "    if root.last_index==0:\n",
    "        print(\"Nothin to traverse.\")\n",
    "        return\n",
    "    \n",
    "    else:\n",
    "        \n",
    "        if index > root.last_index:\n",
    "            return\n",
    "\n",
    "\n",
    "        else:\n",
    "            \n",
    "\n",
    "            in_order_traversal(root,2*index)\n",
    "            print(root.list[index  ])\n",
    "            in_order_traversal(root,2*index+1\n",
    "                               )"
   ]
  },
  {
   "cell_type": "code",
   "execution_count": 182,
   "id": "7fbce97c-719a-4d17-879c-d5f388e17c37",
   "metadata": {},
   "outputs": [
    {
     "name": "stdout",
     "output_type": "stream",
     "text": [
      "Coffee\n",
      "Hot\n",
      "Tea\n",
      "Drinks\n",
      "Cold-Drink\n",
      "Cold\n",
      "Sharbat\n"
     ]
    }
   ],
   "source": [
    "post_order_traversal(root,1)"
   ]
  },
  {
   "cell_type": "code",
   "execution_count": null,
   "id": "501c48eb-aeff-4d77-95ee-92eac8088aa4",
   "metadata": {},
   "outputs": [],
   "source": []
  }
 ],
 "metadata": {
  "kernelspec": {
   "display_name": "Python 3",
   "language": "python",
   "name": "python3"
  },
  "language_info": {
   "codemirror_mode": {
    "name": "ipython",
    "version": 3
   },
   "file_extension": ".py",
   "mimetype": "text/x-python",
   "name": "python",
   "nbconvert_exporter": "python",
   "pygments_lexer": "ipython3",
   "version": "3.8.5"
  }
 },
 "nbformat": 4,
 "nbformat_minor": 5
}
